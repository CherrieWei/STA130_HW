{
 "cells": [
  {
   "cell_type": "markdown",
   "id": "ccad24ec",
   "metadata": {},
   "source": [
    "## Analysis 1: Significance of the Type of Social Interaction"
   ]
  },
  {
   "cell_type": "markdown",
   "id": "2d8d4ae6",
   "metadata": {},
   "source": [
    "Research question:  What type of social interaction plays the most significant role in improving one’s emotional wellbeing?\n",
    "\n",
    "Independent variables: Number of days of socializing in the past week (none, 1-3 days, 4-6 days, 7 days)\n",
    "- CONNECTION_social_days_family_p7d_grouped\n",
    "- CONNECTION_social_days_friends_p7d_grouped\n",
    "- CONNECTION_social_days_coworkers_and_classmates_p7d_grouped\n",
    "- CONNECTION_social_days_neighbours_p7d_grouped\n",
    "\n",
    "Dependent variable: loneliness scale score\n",
    "- LONELY_dejong_emotional_social_loneliness_scale_score (0, 1, 2, 3, 4, 5, 6)\n",
    "\n",
    "Visualization: \n",
    "1. Bar plot: Each type of social interaction (family, friends, coworkers/classmates, and neighbors) will be represented using a bar chart individually. The number of days will be treated as categorical data and placed on the x-axis, and the y-axis will be the corresponding score on the the emotional social loneliness scale.\n",
    "2. Bar plot: Another bar plot with all the types of social interactions combined will also be included for better comparison.\n",
    "3. Bar plots are useful in the case of these variables because it allows for clear comparison of the score of different categories and can reveal the pattern of the data more easily.\n",
    "4. Scatter plot: Convert the number of days of socializing to numerical data and plotted as a scatter graph. This allows us to see the strength of the relationship between the variables more clearly.\n",
    "\n",
    "Analysis:\n",
    "1. Correlation coefficient: To compare the strength of relationship among different types of social interaction, correlation coefficients can help quantify the strength of linearity. We can then compare which type of social interaction has a strongest and most negative relationship with lineliness score. \n",
    "2. Assumptions: \n",
    "  - Linearity\n",
    "  - Homoscedasticity \n",
    "  - Independence\n",
    "  - Normality\n",
    "  - Equal variances across different groups\n",
    "\n",
    "Hypothesis: The strength of negative linear association between days of social interaction and loneliness scale is strongest with family, followed by friends, coworkers/classmates, and neighbors. \n",
    "\n",
    "\n",
    "Relevance of results to the RQ: Results regarding the correlation coefficients and visualizations can allow us to see which type of social interaction is most strongly associated with decreased loneliness, in other words, contributing to better emotional wellbeing."
   ]
  },
  {
   "cell_type": "markdown",
   "id": "9a982077",
   "metadata": {},
   "source": [
    "## Analysis 2: Relationship Between Time Spent with Neighbors and Happiness"
   ]
  },
  {
   "cell_type": "markdown",
   "id": "2eadcffa",
   "metadata": {},
   "source": [
    "Research question:  Is there a positive association between the number of days spent with neighbors in a week and the score for the subjective happiness scale?\n",
    "\n",
    "Independent variables: number of days spent with neighbors in a week\n",
    "- CONNECTION_social_days_neighbours_p7d\n",
    "\n",
    "Dependent variable: subjective happiness scale\n",
    "- WELLNESS_subjective_happiness_scale_happy\n",
    "\n",
    "Visualization: \n",
    "1. Scatter plot: Scatter plot is a good visualization useful for answering this research question because both variables are numerical and we are interested in the correlation between them. A scatter plot not only allows us to visualize whether the relationship is linear, but also provides better understanding of the pattern and strength of linearity. Other useful summary statistics include the correlation coefficient, slope, intercept, and the correlation of determination. These statistics provide quantitative information about the strength of the association and allow us to answer the research question with statistical evidence. \n",
    "\n",
    "Analysis:\n",
    "1. Linear regression analysis: This allows me to examine both the direction and the magnitude of the relationship between the two variables.\n",
    "2. Hypothesis testing: Linear regression can provide a p-value for the slope coefficient, which gives information about whether the observed association is statistically significant. This helps determine if the positive association observed is likely due to chance.\n",
    "3. R-squared: The R-squared value in linear regression indicates how much of the variance in the happiness score can be explained by the number of days spent with neighbors, suggesting how well socializing with neighbors can predict happiness.\n",
    "3. Assumptions: \n",
    "  - Linearity\n",
    "  - Homoscedasticity \n",
    "  - Independence\n",
    "  - Normality\n",
    "\n",
    "Hypothesis: There is a positive linear relationship between the number of days spent with neighbors and the score on the subjective happiness scale.\n",
    "\n",
    "Relevance of results to the RQ: The results can provide information about whether time spent with neighbors and subjective happiness can be modelled by a linear regression, as well as how strong the association."
   ]
  },
  {
   "cell_type": "markdown",
   "id": "20a128f6",
   "metadata": {},
   "source": [
    "## Analysis 3: Difference in Life Satisfaction Between People who Have Closed Social Connections and People who do not"
   ]
  },
  {
   "cell_type": "markdown",
   "id": "e7a76ca6",
   "metadata": {},
   "source": [
    "Research question: Is there a statistically significant difference in life satisfaction between people who have social connections that they feel closed with?\n",
    "\n",
    "Independent variables: whether people think there are enough people they feel closed to \n",
    "- LONELY_dejong_emotional_social_loneliness_scale_close (yes, no, more or less)\n",
    "\n",
    "Dependent variable: life satisfaction rating\n",
    "- WELLNESS_life_satisfaction (0-10)\n",
    "\n",
    "Visualization: Box plot combined with violin plot\n",
    "1. Box plot: Shows key summary statistics (median, quartiles, and potential outliers) which can provide a clear view of the central tendency and spread of life satisfaction scores for each group. The visualization also makes it  easy to compare the medians and interquartile ranges, helping to quickly assess if one group has generally higher or more variable life satisfaction.\n",
    "2. Violin plot: Shows the distribution density of life satisfaction scores, which provides insight into the shape of each group’s distribution.\n",
    "3. Combining a box plot and violin plot gives a comprehensive view for better and more nuanced comparison.\n",
    "\n",
    "Analysis:\n",
    "1. Hypothesis testing: Allows for objective evaluation of whether the observed difference in life satisfaction scores between the two groups. A p-value can also be calculated, which quantifies the likelihood of observing the difference between groups if there is no real effect.\n",
    "2. Assumptions:\n",
    "- Independence\n",
    "- Normality\n",
    "- Homogeneity of Variances\n",
    "\n",
    "Hypothesis: There is a statistically significant difference between people who have social connections that they feel closed with and people who do not.\n",
    "\n",
    "Relevance of results to the RQ: The results of hypothesis testing can give us straightforward evidence for whether there is indeed a significant difference. "
   ]
  },
  {
   "cell_type": "markdown",
   "id": "31830d2f",
   "metadata": {},
   "source": [
    "** Course project group preference:\n",
    "Ching-Chun (Cherrie) Wei, Shimeng (Simone) Wang, Songxuan (Jimmy) Wu **"
   ]
  },
  {
   "cell_type": "code",
   "execution_count": null,
   "id": "efcf2796",
   "metadata": {},
   "outputs": [],
   "source": []
  }
 ],
 "metadata": {
  "kernelspec": {
   "display_name": "Python 3 (ipykernel)",
   "language": "python",
   "name": "python3"
  },
  "language_info": {
   "codemirror_mode": {
    "name": "ipython",
    "version": 3
   },
   "file_extension": ".py",
   "mimetype": "text/x-python",
   "name": "python",
   "nbconvert_exporter": "python",
   "pygments_lexer": "ipython3",
   "version": "3.11.6"
  }
 },
 "nbformat": 4,
 "nbformat_minor": 5
}
